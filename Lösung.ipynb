{
 "cells": [
  {
   "cell_type": "markdown",
   "id": "e57e1f29-f27a-4fe8-8204-9719dde058a4",
   "metadata": {},
   "source": [
    "# Lösungen zu API Aufgaben"
   ]
  },
  {
   "cell_type": "markdown",
   "id": "7f856c84-8f58-4339-a2e2-0d590de20109",
   "metadata": {},
   "source": [
    "---"
   ]
  },
  {
   "cell_type": "markdown",
   "id": "233b79b9-2993-4fc0-9785-30c6eb427d8a",
   "metadata": {},
   "source": [
    "## Aufgabe 1:"
   ]
  },
  {
   "cell_type": "markdown",
   "id": "8564f378-9a32-4377-8b04-8b3e70e8f23e",
   "metadata": {},
   "source": [
    "- Finde in der Dokumentation der SDG API (https://unstats.un.org/sdgs/UNSDGAPIV5/swagger/index.html) unter dem Reiter Goal, den GET endpoint __v1/sdg/Goal/List__.\n",
    "- klicke ihn an -> klicke rechts oben auf \"Try it out\" -> klicke auf \"Execute\" -> kopiere die Request URL\n",
    "- Rufe die API von der kopierten Webadresse mit Hilfe der `requests` library und ihrer Methode `requests.get(\"\")` auf und speichere sie in der Variable `response`."
   ]
  },
  {
   "cell_type": "code",
   "execution_count": 2,
   "id": "fce57888-c9ae-442b-9ac6-1b0d8462adfc",
   "metadata": {},
   "outputs": [],
   "source": [
    "import requests\n",
    "\n",
    "response = requests.get(\"https://unstats.un.org/sdgs/UNSDGAPIV5/v1/sdg/Goal/List\")"
   ]
  },
  {
   "cell_type": "markdown",
   "id": "139af13b-e7bd-46f0-95fe-117789770ad9",
   "metadata": {},
   "source": [
    "---"
   ]
  },
  {
   "cell_type": "markdown",
   "id": "beecd45d-b170-4c5c-b2cf-a00234378fd5",
   "metadata": {},
   "source": [
    "- Prüfe den HTTP Statuscode der angefragten Antwort `response` über das Attribut `.status_code`. Die Ausgabe sollte eine 2 als erste Ziffer haben (__2xx__)."
   ]
  },
  {
   "cell_type": "code",
   "execution_count": 3,
   "id": "85ec0a0f-ed73-46f2-9795-5c6d60231851",
   "metadata": {},
   "outputs": [
    {
     "data": {
      "text/plain": [
       "200"
      ]
     },
     "execution_count": 3,
     "metadata": {},
     "output_type": "execute_result"
    }
   ],
   "source": [
    "response.status_code"
   ]
  },
  {
   "cell_type": "markdown",
   "id": "69813bb1-8dda-4671-ba5b-a047b9951e5a",
   "metadata": {},
   "source": [
    "---"
   ]
  },
  {
   "cell_type": "markdown",
   "id": "d5f0d435-9319-4f95-b038-82ecd92da51e",
   "metadata": {},
   "source": [
    "- Finde mit dem `.headers[\"content-type\"]` Attribut heraus, in welcher Formatierung die Daten ausgegeben wurden."
   ]
  },
  {
   "cell_type": "code",
   "execution_count": 4,
   "id": "1f7a5702-221d-4cba-b63e-c948b37f02c7",
   "metadata": {},
   "outputs": [
    {
     "data": {
      "text/plain": [
       "'application/json; charset=utf-8'"
      ]
     },
     "execution_count": 4,
     "metadata": {},
     "output_type": "execute_result"
    }
   ],
   "source": [
    "response.headers[\"content-type\"]"
   ]
  },
  {
   "cell_type": "markdown",
   "id": "a32d5459-234f-40b0-a186-66f543f1e665",
   "metadata": {},
   "source": [
    "---"
   ]
  },
  {
   "cell_type": "markdown",
   "id": "4643acf3-bef1-4bb5-bd1e-1528191a5c33",
   "metadata": {},
   "source": [
    "- Falls die Daten im JSON-Format übermittelt wurden, können sie mit der `.json()` Methode eingesehen werden. "
   ]
  },
  {
   "cell_type": "code",
   "execution_count": 5,
   "id": "6d72f1d2-0877-4fa4-a5e8-5417334d2c26",
   "metadata": {},
   "outputs": [
    {
     "data": {
      "text/plain": [
       "[{'code': '1',\n",
       "  'title': 'End poverty in all its forms everywhere',\n",
       "  'description': 'Goal 1 calls for an end to poverty in all its manifestations, including extreme poverty, over the next 15 years. All people everywhere, including the poorest and most vulnerable, should enjoy a basic standard of living and social protection benefits.',\n",
       "  'uri': '/v1/sdg/Goal/1'},\n",
       " {'code': '2',\n",
       "  'title': 'End hunger, achieve food security and improved nutrition and promote sustainable agriculture',\n",
       "  'description': 'Goal 2 seeks to end hunger and all forms of malnutrition and to achieve sustainable food production by 2030. It is premised on the idea that everyone should have access to sufficient nutritious food, which will require widespread promotion of sustainable agriculture, a doubling of agricultural productivity, increased investments and properly functioning food markets.',\n",
       "  'uri': '/v1/sdg/Goal/2'},\n",
       " {'code': '3',\n",
       "  'title': 'Ensure healthy lives and promote well-being for all at all ages',\n",
       "  'description': 'Goal 3 aims to ensure health and well-being for all at all ages by improving reproductive, maternal and child health; ending the epidemics of major communicable diseases; reducing non-communicable and environmental diseases; achieving universal health coverage; and ensuring access to safe, affordable and effective medicines and vaccines for all.',\n",
       "  'uri': '/v1/sdg/Goal/3'},\n",
       " {'code': '4',\n",
       "  'title': 'Ensure inclusive and equitable quality education and promote lifelong learning opportunities for all',\n",
       "  'description': 'Goal 4 focuses on the acquisition of foundational and higher-order skills; greater and more equitable access to technical and vocational education and training and higher education; training throughout life; and the knowledge, skills and values needed to function well and contribute to society.',\n",
       "  'uri': '/v1/sdg/Goal/4'},\n",
       " {'code': '5',\n",
       "  'title': 'Achieve gender equality and empower all women and girls',\n",
       "  'description': 'Goal 5 aims to empower women and girls to reach their full potential, which requires eliminating all forms of discrimination and violence against them, including harmful practices. It seeks to ensure that they have every opportunity for sexual and reproductive health and reproductive rights; receive due recognition for their unpaid work; have full access to productive resources; and enjoy equal participation with men in political, economic and public life.',\n",
       "  'uri': '/v1/sdg/Goal/5'},\n",
       " {'code': '6',\n",
       "  'title': 'Ensure availability and sustainable management of water and sanitation for all',\n",
       "  'description': 'Goal 6 goes beyond drinking water, sanitation and hygiene to also address the quality and sustainability of water resources. Achieving this Goal, which is critical to the survival of people and the planet, means expanding international cooperation and garnering the support of local communities in improving water and sanitation management.',\n",
       "  'uri': '/v1/sdg/Goal/6'},\n",
       " {'code': '7',\n",
       "  'title': 'Ensure access to affordable, reliable, sustainable and modern energy for all',\n",
       "  'description': 'Goal 7 seeks to promote broader energy access and increased use of renewable energy, including through enhanced international cooperation and expanded infrastructure and technology for clean energy.',\n",
       "  'uri': '/v1/sdg/Goal/7'},\n",
       " {'code': '8',\n",
       "  'title': 'Promote sustained, inclusive and sustainable economic growth, full and productive employment and decent work for all',\n",
       "  'description': 'Goal 8 aims to provide opportunities for full and productive employment and decent work for all while eradicating forced labour, human trafficking and child labour.',\n",
       "  'uri': '/v1/sdg/Goal/8'},\n",
       " {'code': '9',\n",
       "  'title': 'Build resilient infrastructure, promote inclusive and sustainable industrialization and foster innovation',\n",
       "  'description': 'Goal 9 focuses on the promotion of infrastructure development, industrialization and innovation. This can be accomplished through enhanced international and domestic financial, technological and technical support, research and innovation, and increased access to information and communication technology.',\n",
       "  'uri': '/v1/sdg/Goal/9'},\n",
       " {'code': '10',\n",
       "  'title': 'Reduce inequality within and among countries',\n",
       "  'description': 'Goal 10 calls for reducing inequalities in income, as well as those based on sex, age, disability, race, class, ethnicity, religion and opportunity—both within and among countries. It also aims to ensure safe, orderly and regular migration and addresses issues related to representation of developing countries in global decision-making and development assistance.',\n",
       "  'uri': '/v1/sdg/Goal/10'},\n",
       " {'code': '11',\n",
       "  'title': 'Make cities and human settlements inclusive, safe, resilient and sustainable',\n",
       "  'description': 'Goal 11 aims to renew and plan cities and other human settlements in a way that fosters community cohesion and personal security while stimulating innovation and employment.',\n",
       "  'uri': '/v1/sdg/Goal/11'},\n",
       " {'code': '12',\n",
       "  'title': 'Ensure sustainable consumption and production patterns',\n",
       "  'description': 'Goal 12 aims to promote sustainable consumption and production patterns through measures such as specific policies and international agreements on the management of materials that are toxic to the environment.',\n",
       "  'uri': '/v1/sdg/Goal/12'},\n",
       " {'code': '13',\n",
       "  'title': 'Take urgent action to combat climate change and its impacts',\n",
       "  'description': 'Climate change presents the single biggest threat to development, and its widespread, unprecedented effects disproportionately burden the poorest and the most vulnerable. Urgent action is needed not only to combat climate change and its impacts, but also to build resilience in responding to climate-related hazards and natural disasters.',\n",
       "  'uri': '/v1/sdg/Goal/13'},\n",
       " {'code': '14',\n",
       "  'title': 'Conserve and sustainably use the oceans, seas and marine resources for sustainable development',\n",
       "  'description': 'Goal 14 seeks to promote the conservation and sustainable use of marine and coastal ecosystems, prevent marine pollution and increase the economic benefits to small island developing States and LDCs from the sustainable use of marine resources.',\n",
       "  'uri': '/v1/sdg/Goal/14'},\n",
       " {'code': '15',\n",
       "  'title': 'Protect, restore and promote sustainable use of terrestrial ecosystems, sustainably manage forests, combat desertification, and halt and reverse land degradation and halt biodiversity loss',\n",
       "  'description': 'Goal 15 focuses on managing forests sustainably, restoring degraded lands and successfully combating desertification, reducing degraded natural habitats and ending biodiversity loss. All of these efforts in combination will help ensure that livelihoods are preserved for those that depend directly on forests and other ecosystems, that biodiversity will thrive, and that the benefits of these natural resources will be enjoyed for generations to come.',\n",
       "  'uri': '/v1/sdg/Goal/15'},\n",
       " {'code': '16',\n",
       "  'title': 'Promote peaceful and inclusive societies for sustainable development, provide access to justice for all and build effective, accountable and inclusive institutions at all levels',\n",
       "  'description': 'Goal 16 envisages peaceful and inclusive societies based on respect for human rights, the rule of law, good governance at all levels, and transparent, effective and accountable institutions. Many countries still face protracted violence and armed conflict, and far too many people are poorly supported by weak institutions and lack access to justice, information and other fundamental freedoms.',\n",
       "  'uri': '/v1/sdg/Goal/16'},\n",
       " {'code': '17',\n",
       "  'title': 'Strengthen the means of implementation and revitalize the Global Partnership for Sustainable Development',\n",
       "  'description': 'The 2030 Agenda requires a revitalized and enhanced global partnership that mobilizes all available resources from Governments, civil society, the private sector, the United Nations system and other actors. Increasing support to developing countries, in particular LDCs, landlocked developing countries and small island developing States is fundamental to equitable progress for all.',\n",
       "  'uri': '/v1/sdg/Goal/17'}]"
      ]
     },
     "execution_count": 5,
     "metadata": {},
     "output_type": "execute_result"
    }
   ],
   "source": [
    "response.json()"
   ]
  },
  {
   "cell_type": "markdown",
   "id": "2d9763ef-710a-49cc-8e4b-01cf5555b976",
   "metadata": {},
   "source": [
    "- Zusatzaufgabe: In der Dokumentation gibt es den GET endpoint __/v1/sdg/Goal/{goalCode}/Target/List__. Hier kann {goalCode} mit der entsprechenden Nummer des Ziels ausgetauscht werden sowie ein optionaler URL Parameter nach /List angehängt werden. Sieh dir die JSON Ausgabe an."
   ]
  },
  {
   "cell_type": "code",
   "execution_count": 7,
   "id": "23d38560-f40e-4c1e-b61d-3498955a9ea4",
   "metadata": {},
   "outputs": [
    {
     "data": {
      "text/plain": [
       "[{'code': '1',\n",
       "  'title': 'End poverty in all its forms everywhere',\n",
       "  'description': 'Goal 1 calls for an end to poverty in all its manifestations, including extreme poverty, over the next 15 years. All people everywhere, including the poorest and most vulnerable, should enjoy a basic standard of living and social protection benefits.',\n",
       "  'uri': '/v1/sdg/Goal/1'},\n",
       " {'code': '2',\n",
       "  'title': 'End hunger, achieve food security and improved nutrition and promote sustainable agriculture',\n",
       "  'description': 'Goal 2 seeks to end hunger and all forms of malnutrition and to achieve sustainable food production by 2030. It is premised on the idea that everyone should have access to sufficient nutritious food, which will require widespread promotion of sustainable agriculture, a doubling of agricultural productivity, increased investments and properly functioning food markets.',\n",
       "  'uri': '/v1/sdg/Goal/2'},\n",
       " {'code': '3',\n",
       "  'title': 'Ensure healthy lives and promote well-being for all at all ages',\n",
       "  'description': 'Goal 3 aims to ensure health and well-being for all at all ages by improving reproductive, maternal and child health; ending the epidemics of major communicable diseases; reducing non-communicable and environmental diseases; achieving universal health coverage; and ensuring access to safe, affordable and effective medicines and vaccines for all.',\n",
       "  'uri': '/v1/sdg/Goal/3'},\n",
       " {'code': '4',\n",
       "  'title': 'Ensure inclusive and equitable quality education and promote lifelong learning opportunities for all',\n",
       "  'description': 'Goal 4 focuses on the acquisition of foundational and higher-order skills; greater and more equitable access to technical and vocational education and training and higher education; training throughout life; and the knowledge, skills and values needed to function well and contribute to society.',\n",
       "  'uri': '/v1/sdg/Goal/4'},\n",
       " {'code': '5',\n",
       "  'title': 'Achieve gender equality and empower all women and girls',\n",
       "  'description': 'Goal 5 aims to empower women and girls to reach their full potential, which requires eliminating all forms of discrimination and violence against them, including harmful practices. It seeks to ensure that they have every opportunity for sexual and reproductive health and reproductive rights; receive due recognition for their unpaid work; have full access to productive resources; and enjoy equal participation with men in political, economic and public life.',\n",
       "  'uri': '/v1/sdg/Goal/5'},\n",
       " {'code': '6',\n",
       "  'title': 'Ensure availability and sustainable management of water and sanitation for all',\n",
       "  'description': 'Goal 6 goes beyond drinking water, sanitation and hygiene to also address the quality and sustainability of water resources. Achieving this Goal, which is critical to the survival of people and the planet, means expanding international cooperation and garnering the support of local communities in improving water and sanitation management.',\n",
       "  'uri': '/v1/sdg/Goal/6'},\n",
       " {'code': '7',\n",
       "  'title': 'Ensure access to affordable, reliable, sustainable and modern energy for all',\n",
       "  'description': 'Goal 7 seeks to promote broader energy access and increased use of renewable energy, including through enhanced international cooperation and expanded infrastructure and technology for clean energy.',\n",
       "  'uri': '/v1/sdg/Goal/7'},\n",
       " {'code': '8',\n",
       "  'title': 'Promote sustained, inclusive and sustainable economic growth, full and productive employment and decent work for all',\n",
       "  'description': 'Goal 8 aims to provide opportunities for full and productive employment and decent work for all while eradicating forced labour, human trafficking and child labour.',\n",
       "  'uri': '/v1/sdg/Goal/8'},\n",
       " {'code': '9',\n",
       "  'title': 'Build resilient infrastructure, promote inclusive and sustainable industrialization and foster innovation',\n",
       "  'description': 'Goal 9 focuses on the promotion of infrastructure development, industrialization and innovation. This can be accomplished through enhanced international and domestic financial, technological and technical support, research and innovation, and increased access to information and communication technology.',\n",
       "  'uri': '/v1/sdg/Goal/9'},\n",
       " {'code': '10',\n",
       "  'title': 'Reduce inequality within and among countries',\n",
       "  'description': 'Goal 10 calls for reducing inequalities in income, as well as those based on sex, age, disability, race, class, ethnicity, religion and opportunity—both within and among countries. It also aims to ensure safe, orderly and regular migration and addresses issues related to representation of developing countries in global decision-making and development assistance.',\n",
       "  'uri': '/v1/sdg/Goal/10'},\n",
       " {'code': '11',\n",
       "  'title': 'Make cities and human settlements inclusive, safe, resilient and sustainable',\n",
       "  'description': 'Goal 11 aims to renew and plan cities and other human settlements in a way that fosters community cohesion and personal security while stimulating innovation and employment.',\n",
       "  'uri': '/v1/sdg/Goal/11'},\n",
       " {'code': '12',\n",
       "  'title': 'Ensure sustainable consumption and production patterns',\n",
       "  'description': 'Goal 12 aims to promote sustainable consumption and production patterns through measures such as specific policies and international agreements on the management of materials that are toxic to the environment.',\n",
       "  'uri': '/v1/sdg/Goal/12'},\n",
       " {'code': '13',\n",
       "  'title': 'Take urgent action to combat climate change and its impacts',\n",
       "  'description': 'Climate change presents the single biggest threat to development, and its widespread, unprecedented effects disproportionately burden the poorest and the most vulnerable. Urgent action is needed not only to combat climate change and its impacts, but also to build resilience in responding to climate-related hazards and natural disasters.',\n",
       "  'uri': '/v1/sdg/Goal/13'},\n",
       " {'code': '14',\n",
       "  'title': 'Conserve and sustainably use the oceans, seas and marine resources for sustainable development',\n",
       "  'description': 'Goal 14 seeks to promote the conservation and sustainable use of marine and coastal ecosystems, prevent marine pollution and increase the economic benefits to small island developing States and LDCs from the sustainable use of marine resources.',\n",
       "  'uri': '/v1/sdg/Goal/14'},\n",
       " {'code': '15',\n",
       "  'title': 'Protect, restore and promote sustainable use of terrestrial ecosystems, sustainably manage forests, combat desertification, and halt and reverse land degradation and halt biodiversity loss',\n",
       "  'description': 'Goal 15 focuses on managing forests sustainably, restoring degraded lands and successfully combating desertification, reducing degraded natural habitats and ending biodiversity loss. All of these efforts in combination will help ensure that livelihoods are preserved for those that depend directly on forests and other ecosystems, that biodiversity will thrive, and that the benefits of these natural resources will be enjoyed for generations to come.',\n",
       "  'uri': '/v1/sdg/Goal/15'},\n",
       " {'code': '16',\n",
       "  'title': 'Promote peaceful and inclusive societies for sustainable development, provide access to justice for all and build effective, accountable and inclusive institutions at all levels',\n",
       "  'description': 'Goal 16 envisages peaceful and inclusive societies based on respect for human rights, the rule of law, good governance at all levels, and transparent, effective and accountable institutions. Many countries still face protracted violence and armed conflict, and far too many people are poorly supported by weak institutions and lack access to justice, information and other fundamental freedoms.',\n",
       "  'uri': '/v1/sdg/Goal/16'},\n",
       " {'code': '17',\n",
       "  'title': 'Strengthen the means of implementation and revitalize the Global Partnership for Sustainable Development',\n",
       "  'description': 'The 2030 Agenda requires a revitalized and enhanced global partnership that mobilizes all available resources from Governments, civil society, the private sector, the United Nations system and other actors. Increasing support to developing countries, in particular LDCs, landlocked developing countries and small island developing States is fundamental to equitable progress for all.',\n",
       "  'uri': '/v1/sdg/Goal/17'}]"
      ]
     },
     "execution_count": 7,
     "metadata": {},
     "output_type": "execute_result"
    }
   ],
   "source": [
    "# Ausgabe für Ziel Nummer 1 und Kindern miteinbezogen.\n",
    "response_goal = requests.get(\"https://unstats.un.org/sdgs/UNSDGAPIV5/v1/sdg/Goal/1/Target/List?includechildren=true\")\n",
    "response.json()"
   ]
  },
  {
   "cell_type": "markdown",
   "id": "6d608a29-371a-4e4c-8ab2-4ffdd977a6b8",
   "metadata": {},
   "source": [
    "---"
   ]
  },
  {
   "cell_type": "markdown",
   "id": "e88f8317-114a-4bf9-bd77-807b866b9876",
   "metadata": {},
   "source": [
    "## Aufgabe 2:"
   ]
  },
  {
   "cell_type": "markdown",
   "id": "ad7db4f6-29b2-4f03-b754-fd64b05cb81d",
   "metadata": {},
   "source": [
    "- Erstelle über bash die Datei `meineapi.py` und öffne sie mit `nano`.\n",
    "- Importiere die Klasse __`FastAPI`__ von dem Modul __`fastapi`__.\n",
    "- Erstelle ein leeres FastAPI Objekt ohne Endpoints mit `FastAPI()` und speichere es in der Variable `app`.\n",
    "\n",
    "### GET endpoint\n",
    "- Füge einen einfachen GET endpoint `@app.get(\"/say_hi/{name}\")` hinzu.\n",
    "- Erstelle die Funktion `say_hi(name)`, welche als return `{\"Hallo\": name}` haben soll.\n",
    "- Speicher den Inhalt der Datei und gib in bash `uvicorn meineapi:app` ein.\n",
    "- Nun sollten 4 INFO Zeilen mit einer Webadresse zu sehen sein. Öffne diese im Browser und hänge `/say_hi/` und einen Namen an.\n",
    "- Mit FastAPI wird automatisch eine Swagger UI Dokumentation erstellt. Öffne erneut die Webadresse und hänge `/docs#/` an um sie zu sehen."
   ]
  },
  {
   "cell_type": "code",
   "execution_count": null,
   "id": "1723313e-618a-4556-a232-fc91bc1c3fce",
   "metadata": {},
   "outputs": [],
   "source": [
    "# meineapi.py\n",
    "from fastapi import FastAPI\n",
    "\n",
    "app = FastAPI()\n",
    "\n",
    "@app.get(\"/say_hi/{name}\")\n",
    "def say_hi(name):\n",
    "    return {\"Hallo\": name}\n",
    "\n",
    "\n",
    "# bash\n",
    "uvicorn meineapi:app\n",
    "\n",
    "\n",
    "# Browser\n",
    "http://127.0.0.1:8000/say_hi/\n",
    "http://127.0.0.1:8000/docs"
   ]
  },
  {
   "cell_type": "markdown",
   "id": "9505b778-eb2f-445f-a15d-c38af2a3617f",
   "metadata": {},
   "source": [
    "### POST endpoint\n",
    "- Stoppe den Webserver mit Strg + C und öffne erneut die Python Datei `meineapi.py` über nano.\n",
    "- Importiere die Klasse `BaseModel` von dem Modul `pydantic`.\n",
    "- Unter dem GET endpoint erstelle die Klasse `UserInput(BaseModel)` mit den Eigenschaften `name` als `str` und `alter` als `int`.\n",
    "- Füge einen einfachen POST endpoint `@app.post(\"/greet\")` hinzu.\n",
    "- Erstelle die Funktion `greet_user(user: UserInput)`, welche als return `{\"message\": f\"Hallo {user.name}, du bist {user.alter} Jahre alt.\"}` haben soll.\n",
    "- Speicher den Inhalt der Datei und starte den Web Server in bash mit `uvicorn meineapi:app`.\n",
    "- Öffne die Webadresse für die Dokumentation `.../docs#/`. Es sollten zwei Endpunkte zu sehen sein.\n",
    "- Öffne den __POST__-endpoint nicht im Browser sondern über die `requests` library wie in Aufgabe 1. Achtung: Die URL funktioniert nur mit http (~~https~~). Füge in die Klammer außerdem `json={\"name\": \"___\", \"alter\": ___})` hinzu.\n",
    "Gib den Text aus."
   ]
  },
  {
   "cell_type": "code",
   "execution_count": null,
   "id": "8c46c849-178b-41bd-ac5d-2cc7f0efd43f",
   "metadata": {},
   "outputs": [],
   "source": [
    "# meineapi.py\n",
    "from fastapi import FastAPI\n",
    "from pydantic import BaseModel\n",
    "\n",
    "app = FastAPI()\n",
    "\n",
    "# GET-endpoint\n",
    "@app.get(\"/say_hi/{name}\")\n",
    "def say_hi(name):\n",
    "    return {\"Hallo\": name}\n",
    "\n",
    "# POST-endpoint\n",
    "class UserInput(BaseModel):\n",
    "    name: str\n",
    "    alter: int\n",
    "\n",
    "@app.post(\"/greet\")\n",
    "def greet_user(user: UserInput):\n",
    "    return {\"message\": f\"Hallo {user.name}, du bist {user.alter} Jahre alt.\"}\n",
    "\n",
    "\n",
    "# bash\n",
    "uvicorn meineapi:app\n",
    "\n",
    "\n",
    "# Browser\n",
    "http://127.0.0.1:8000/docs"
   ]
  },
  {
   "cell_type": "code",
   "execution_count": 8,
   "id": "421d01ed-c43b-4869-90aa-50d3fd7f0bd0",
   "metadata": {},
   "outputs": [
    {
     "data": {
      "text/plain": [
       "{'message': 'Hallo Max, du bist 25 Jahre alt.'}"
      ]
     },
     "execution_count": 8,
     "metadata": {},
     "output_type": "execute_result"
    }
   ],
   "source": [
    "import requests\n",
    "\n",
    "response = requests.post(\"http://127.0.0.1:8000/greet\", json={\"name\": \"Max\", \"alter\": 25})\n",
    "\n",
    "response.status_code\n",
    "response.json()"
   ]
  },
  {
   "cell_type": "markdown",
   "id": "ef2b2631-7079-4b0c-8dff-3ec96070ae72",
   "metadata": {},
   "source": [
    "---"
   ]
  }
 ],
 "metadata": {
  "kernelspec": {
   "display_name": "Python 3 (ipykernel)",
   "language": "python",
   "name": "python3"
  },
  "language_info": {
   "codemirror_mode": {
    "name": "ipython",
    "version": 3
   },
   "file_extension": ".py",
   "mimetype": "text/x-python",
   "name": "python",
   "nbconvert_exporter": "python",
   "pygments_lexer": "ipython3",
   "version": "3.13.0"
  }
 },
 "nbformat": 4,
 "nbformat_minor": 5
}
