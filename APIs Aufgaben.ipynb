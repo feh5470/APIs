{
 "cells": [
  {
   "cell_type": "markdown",
   "id": "e7d58227-8f66-45c2-a6b3-74dde7aa7123",
   "metadata": {},
   "source": [
    "# Aufgaben zu APIs"
   ]
  },
  {
   "cell_type": "markdown",
   "id": "c2d4c4fd-d976-4082-9abd-61de8c9df7fe",
   "metadata": {},
   "source": [
    "---"
   ]
  },
  {
   "cell_type": "markdown",
   "id": "77c1dbc9-5855-4c3c-acf4-214d02b864e5",
   "metadata": {},
   "source": [
    "## Aufgabe 1: "
   ]
  },
  {
   "cell_type": "markdown",
   "id": "94f17af9-1bf4-4ab9-96c4-04af3140b3cd",
   "metadata": {},
   "source": [
    "- Finde in der Dokumentation der SDG API (https://unstats.un.org/sdgs/UNSDGAPIV5/swagger/index.html) unter dem Reiter Goal, den GET endpoint __v1/sdg/Goal/List__.\n",
    "- klicke ihn an -> klicke rechts oben auf \"Try it out\" -> klicke auf \"Execute\" -> kopiere die Request URL\n",
    "- Rufe die API von der kopierten Webadresse mit Hilfe der `requests` library und ihrer Methode `requests.get(\"\")` auf und speichere sie in der Variable `response`."
   ]
  },
  {
   "cell_type": "code",
   "execution_count": null,
   "id": "21a50a2a-6a2b-424a-8c59-043b8889b525",
   "metadata": {},
   "outputs": [],
   "source": []
  },
  {
   "cell_type": "markdown",
   "id": "786ef15e-070a-4e43-95c4-eb143f2959fa",
   "metadata": {},
   "source": [
    "---"
   ]
  },
  {
   "cell_type": "markdown",
   "id": "06eabfd5-f2d7-4de8-918f-f4ed9f157705",
   "metadata": {},
   "source": [
    "- Prüfe den HTTP Statuscode der angefragten Antwort `response` über das Attribut `.status_code`. Die Ausgabe sollte eine 2 als erste Ziffer haben (__2xx__)."
   ]
  },
  {
   "cell_type": "code",
   "execution_count": null,
   "id": "9b6bd894-fe58-4903-b53c-3e969341a94e",
   "metadata": {},
   "outputs": [],
   "source": []
  },
  {
   "cell_type": "markdown",
   "id": "a897f4cf-0080-4027-a4df-04007a171cf9",
   "metadata": {},
   "source": [
    "---"
   ]
  },
  {
   "cell_type": "markdown",
   "id": "9a90b3cd-14d7-4a03-bdbe-5fc4aed6b3b2",
   "metadata": {},
   "source": [
    "- Finde mit dem `.headers[\"content-type\"]` Attribut heraus, in welcher Formatierung die Daten ausgegeben wurden."
   ]
  },
  {
   "cell_type": "code",
   "execution_count": null,
   "id": "94909418-3814-4b57-b872-3f897f9d1642",
   "metadata": {},
   "outputs": [],
   "source": []
  },
  {
   "cell_type": "markdown",
   "id": "64d39944-1d46-41a4-a637-21509d7f6ad1",
   "metadata": {},
   "source": [
    "---"
   ]
  },
  {
   "cell_type": "markdown",
   "id": "ddafc782-02a7-4552-b8b7-f34b77cb7505",
   "metadata": {},
   "source": [
    "- Falls die Daten im JSON-Format übermittelt wurden, können sie mit der `.json()` Methode eingesehen werden. "
   ]
  },
  {
   "cell_type": "code",
   "execution_count": null,
   "id": "6783e0e7-7b93-470e-b0f2-22ffbea27f64",
   "metadata": {},
   "outputs": [],
   "source": []
  },
  {
   "cell_type": "markdown",
   "id": "c87e59b7-2c71-49e8-848e-1a01d584e5c4",
   "metadata": {},
   "source": [
    "Wenn alles richtig gelaufen ist, sollten hier die __UN Sustainable Development Goals__ angezeigt werden!"
   ]
  },
  {
   "cell_type": "markdown",
   "id": "0ba66c31-ce62-4955-8100-5a6c544b0a40",
   "metadata": {},
   "source": [
    "---"
   ]
  },
  {
   "cell_type": "markdown",
   "id": "bf25980b-f0be-4bb2-9ccb-d746fa30022b",
   "metadata": {},
   "source": [
    "- Zusatzaufgabe: In der Dokumentation gibt es den GET endpoint __/v1/sdg/Goal/{goalCode}/Target/List__. Hier kann {goalCode} mit der entsprechenden Nummer des Ziels ausgetauscht werden sowie ein optionaler URL Parameter nach /List angehängt werden. Sieh dir die JSON Ausgabe an."
   ]
  },
  {
   "cell_type": "code",
   "execution_count": null,
   "id": "9bc84182-495f-4406-a361-6974e65b22c0",
   "metadata": {},
   "outputs": [],
   "source": []
  },
  {
   "cell_type": "markdown",
   "id": "bad924b6-5c84-4485-89a3-e47209cbab41",
   "metadata": {},
   "source": [
    "---"
   ]
  },
  {
   "cell_type": "markdown",
   "id": "cef45667-cd43-4051-a8ef-5e0ba07fc25d",
   "metadata": {},
   "source": [
    "## Aufgabe 2:"
   ]
  },
  {
   "cell_type": "markdown",
   "id": "08e0b18e-27fa-46c6-a684-3c4042e441c2",
   "metadata": {},
   "source": [
    "- Erstelle über bash die Datei `meineapi.py` und öffne sie mit `nano`.\n",
    "- Importiere die Klasse __`FastAPI`__ von dem Modul __`fastapi`__.\n",
    "- Erstelle ein leeres FastAPI Objekt ohne Endpoints mit `FastAPI()` und speichere es in der Variable `app`.\n",
    "\n",
    "### GET endpoint\n",
    "- Füge einen einfachen GET endpoint `@app.get(\"/say_hi/{name}\")` hinzu.\n",
    "- Erstelle die Funktion `say_hi(name)`, welche als return `{\"Hallo\": name}` haben soll.\n",
    "- Speicher den Inhalt der Datei und gib in bash `uvicorn meineapi:app` ein.\n",
    "- Nun sollten 4 INFO Zeilen mit einer Webadresse zu sehen sein. Öffne diese im Browser und hänge `/say_hi/` und einen Namen an.\n",
    "- Mit FastAPI wird automatisch eine Swagger UI Dokumentation erstellt. Öffne erneut die Webadresse und hänge `/docs#/` an um sie zu sehen.\n",
    "\n",
    "### POST endpoint\n",
    "- Stoppe den Webserver mit Strg + C und öffne erneut die Python Datei `meineapi.py` über nano.\n",
    "- Importiere die Klasse `BaseModel` von dem Modul `pydantic`.\n",
    "- Unter dem GET endpoint erstelle die Klasse `UserInput(BaseModel)` mit den Eigenschaften `name` als `str` und `alter` als `int`.\n",
    "- Füge einen einfachen POST endpoint `@app.post(\"/greet\")` hinzu.\n",
    "- Erstelle die Funktion `greet_user(user: UserInput)`, welche als return `{\"message\": f\"Hallo {user.name}, du bist {user.alter} Jahre alt.\"}` haben soll.\n",
    "- Speicher den Inhalt der Datei und starte den Web Server in bash mit `uvicorn meineapi:app`.\n",
    "- Nun sollten 4 INFO Zeilen mit einer Webadresse zu sehen sein. \n",
    "- Öffne die Webadresse für die Dokumentation `.../docs#/`. Es sollten zwei Endpunkte zu sehen sein.\n",
    "- Öffne den __POST__-endpoint nicht im Browser sondern über die `requests` library wie in Aufgabe 1. Achtung: Die URL funktioniert nur mit http (~~https~~). Füge in die Klammer außerdem `json={\"name\": \"___\", \"alter\": ___})` hinzu.\n",
    "Gib den Text aus."
   ]
  },
  {
   "cell_type": "code",
   "execution_count": null,
   "id": "711d6fd1-66b8-49db-8897-426ddc35729d",
   "metadata": {},
   "outputs": [],
   "source": []
  },
  {
   "cell_type": "markdown",
   "id": "4d969d2b-2100-4fc9-aafa-3c507a74cc89",
   "metadata": {},
   "source": [
    "---"
   ]
  }
 ],
 "metadata": {
  "kernelspec": {
   "display_name": "Python 3 (ipykernel)",
   "language": "python",
   "name": "python3"
  },
  "language_info": {
   "codemirror_mode": {
    "name": "ipython",
    "version": 3
   },
   "file_extension": ".py",
   "mimetype": "text/x-python",
   "name": "python",
   "nbconvert_exporter": "python",
   "pygments_lexer": "ipython3",
   "version": "3.13.0"
  }
 },
 "nbformat": 4,
 "nbformat_minor": 5
}
